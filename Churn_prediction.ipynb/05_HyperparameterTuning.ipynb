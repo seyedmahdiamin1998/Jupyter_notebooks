{
 "cells": [
  {
   "cell_type": "markdown",
   "metadata": {},
   "source": [
    "<h2 style='text-align:center'>Hyperparameter Tuning</h2>"
   ]
  },
  {
   "cell_type": "markdown",
   "metadata": {},
   "source": [
    "<hr>"
   ]
  },
  {
   "cell_type": "code",
   "execution_count": 101,
   "metadata": {},
   "outputs": [],
   "source": [
    "# imprt libraries\n",
    "import os\n",
    "import pandas as pd\n",
    "import numpy as np\n",
    "from sklearn.model_selection import train_test_split\n",
    "from sklearn.model_selection import KFold \n",
    "from sklearn.metrics import roc_auc_score\n",
    "import matplotlib.pyplot as plt"
   ]
  },
  {
   "cell_type": "code",
   "execution_count": 102,
   "metadata": {},
   "outputs": [],
   "source": [
    "#Data Preprocessing\n",
    "\n",
    "def preprocess(dataset:pd.DataFrame) -> pd.DataFrame :\n",
    "    '''\n",
    "    dataset contain this columns:\n",
    "        'gender':               ['Female' 'Male']\n",
    "        'SeniorCitizen':        [0 1]\n",
    "        'Partner':              ['Yes' 'No']\n",
    "        'Dependents':           ['No' 'Yes']\n",
    "        'tenure':               int\n",
    "        'PhoneService':         ['No' 'Yes']\n",
    "        'MultipleLines':        ['No phone service' 'No' 'Yes']\n",
    "        'InternetService':      ['DSL' 'Fiber optic' 'No']\n",
    "        'OnlineSecurity':       ['No' 'Yes' 'No internet service']\n",
    "        'OnlineBackup':         ['Yes' 'No' 'No internet service']\n",
    "        'DeviceProtection':     ['No' 'Yes' 'No internet service']\n",
    "        'TechSupport':          ['No' 'Yes' 'No internet service']\n",
    "        'StreamingTV':          ['No' 'Yes' 'No internet service']\n",
    "        'StreamingMovies':      ['No' 'Yes' 'No internet service']\n",
    "        'Contract':             ['Month-to-month' 'One year' 'Two year']\n",
    "        'PaperlessBilling':     ['Yes' 'No']\n",
    "        'PaymentMethod':        ['Electronic check' 'Mailed check' 'Bank transfer (automatic)' 'Credit card (automatic)']\n",
    "        'MonthlyCharges':       float\n",
    "        'TotalCharges':         float\n",
    "        'Churn':                ['No' 'Yes']   // Not necessary\n",
    "    '''\n",
    "    df = dataset.copy()\n",
    "\n",
    "    # Prepare string variables\n",
    "    df.columns = df.columns.str.lower().str.replace(' ','_')\n",
    "    string_columns = list(df.dtypes[df.dtypes=='O'].index)\n",
    "    for col in string_columns:\n",
    "        df[col] = df[col].str.lower().str.replace(' ','_')\n",
    "\n",
    "    # drop customerid\n",
    "    if 'customerid' in df.columns:\n",
    "        del df['customerid']\n",
    "        \n",
    "    # Prepare numeric columns type\n",
    "    if 'tenure' in df.columns:\n",
    "        df['tenure'] = pd.to_numeric(df['tenure'], errors='coerce')\n",
    "        df['tenure'] = df['tenure'].fillna(0)\n",
    "    else:\n",
    "        raise Exception(\"!!! Tenure column didn't exist !!!\")\n",
    "\n",
    "    if 'monthlycharges' in df.columns:\n",
    "        df['monthlycharges'] = pd.to_numeric(df['monthlycharges'], errors='coerce')\n",
    "        df['monthlycharges'] = df['monthlycharges'].fillna(0)\n",
    "    else:\n",
    "        raise Exception(\"!!! MonthlyCharges column didn't exist !!!\")\n",
    "\n",
    "    if 'totalcharges' in df.columns:\n",
    "        df['totalcharges'] = pd.to_numeric(df['totalcharges'], errors='coerce')\n",
    "        df['totalcharges'] = df['totalcharges'].fillna(0)\n",
    "    else:\n",
    "        raise Exception(\"!!! TotalCharges column didn't exist !!!\")\n",
    "        \n",
    "    # Make dependent variable numeric\n",
    "    if 'churn' in df.columns:\n",
    "        df.churn = (df.churn == 'yes').astype(int)\n",
    "    \n",
    "    return df"
   ]
  },
  {
   "cell_type": "code",
   "execution_count": 103,
   "metadata": {},
   "outputs": [],
   "source": [
    "# Feature Engineering\n",
    "\n",
    "def FeatureEngineering(dataset:pd.DataFrame,\n",
    "                       categorical_variables:list,\n",
    "                       numerical_variables:list,\n",
    "                       isTrain:bool,\n",
    "                       scaleColumns:list):\n",
    "    \"\"\"\n",
    "    dataset: pd.Dataframe\n",
    "    categorical_variables: list of important categorical columns that we want to use in pur model\n",
    "    numerical_variables: list of important numerical columns that we want to use in pur model\n",
    "    isTrain:    if you want to train a model, set it 'True'\n",
    "                if you want to use for test or deployment set it 'False'\n",
    "    \"\"\"\n",
    "    df = dataset.copy()\n",
    "    categorical_important = categorical_variables.copy()\n",
    "    numerical_important = numerical_variables.copy()\n",
    "    df = df[numerical_important + categorical_important]\n",
    "\n",
    "    # we create a folder to save our data there \n",
    "    path = os.getcwd()\n",
    "    assets_path = path+'\\\\assets'\n",
    "    if not os.path.exists(assets_path):\n",
    "        os.makedirs(assets_path)\n",
    "\n",
    "    # Dummy variables\n",
    "    if isTrain:\n",
    "        def ohe(dataset:pd.DataFrame, categorical_columns:str):\n",
    "            df = dataset.copy()\n",
    "            df_info = pd.DataFrame(columns=['col', 'uniques'])\n",
    "            for col in categorical_columns:\n",
    "                list_Uniques = df[col].unique()\n",
    "                df_info.loc[len(df_info)] = [col, ','.join(map(str, list_Uniques))]\n",
    "                for name in list_Uniques:\n",
    "                    df[str(col)+'_'+str(name)] = df[col].apply(lambda x : 1 if x==name else 0)\n",
    "                del df[col]\n",
    "\n",
    "            df_info.to_csv(assets_path+'\\\\ohe_info.csv', index=False)\n",
    "            return df\n",
    "\n",
    "        df=ohe(df, categorical_important)\n",
    "    else:\n",
    "        df_info = pd.read_csv(assets_path+'\\ohe_info.csv')\n",
    "        for i in range(len(df_info)):\n",
    "            col = df_info.iloc[i,:].col\n",
    "            list_Uniques = df_info.iloc[i,:].uniques.split(',')\n",
    "            for name in list_Uniques:\n",
    "                df[str(col)+'_'+str(name)] =  df[col].apply(lambda x : 1 if x==name else 0)\n",
    "            del df[col]\n",
    "\n",
    "    # Feature scaling\n",
    "    if isTrain:\n",
    "        scale_info = pd.DataFrame(columns=['col','mean','std'])\n",
    "        for col in scaleColumns:\n",
    "            mean_col = df[col].mean()\n",
    "            std_col = df[col].std()\n",
    "            df[col] = (df[col]-mean_col)/std_col\n",
    "            scale_info.loc[len(scale_info)] = [col, mean_col, std_col]\n",
    "        \n",
    "        scale_info.to_csv(assets_path+'\\\\scale_info.csv', index=False)\n",
    "    else:\n",
    "        scale_info = pd.read_csv(assets_path+'\\\\scale_info.csv')\n",
    "        \n",
    "        for i in range(len(scale_info)):\n",
    "            col = scale_info.loc[i,'col']\n",
    "            mean_col = scale_info.loc[i,'mean']\n",
    "            std_col = scale_info.loc[i,'std']\n",
    "\n",
    "            df[col] = (df[col]-mean_col)/std_col\n",
    "    return df"
   ]
  },
  {
   "cell_type": "code",
   "execution_count": 104,
   "metadata": {},
   "outputs": [],
   "source": [
    "df = pd.read_csv('Churn_prediction.csv')\n",
    "df = preprocess(df)\n",
    "\n",
    "categorical_important=['contract', 'onlinesecurity', 'techsupport', 'internetservice']\n",
    "numerical_important = ['tenure', 'monthlycharges', 'totalcharges']"
   ]
  },
  {
   "cell_type": "code",
   "execution_count": 105,
   "metadata": {},
   "outputs": [],
   "source": [
    "from sklearn.model_selection import train_test_split\n",
    "X_train, X_test, y_train, y_test = train_test_split(df.loc[:,df.columns!='churn'],\n",
    "                                                    df['churn'],\n",
    "                                                    test_size=0.2,\n",
    "                                                    random_state=1)"
   ]
  },
  {
   "cell_type": "code",
   "execution_count": 106,
   "metadata": {},
   "outputs": [],
   "source": [
    "X_train = preprocess(X_train)\n",
    "X_train = FeatureEngineering(X_train,\n",
    "                            categorical_variables=categorical_important,\n",
    "                            numerical_variables=numerical_important,\n",
    "                            isTrain=True,\n",
    "                            scaleColumns=numerical_important\n",
    "                            )"
   ]
  },
  {
   "cell_type": "code",
   "execution_count": 107,
   "metadata": {},
   "outputs": [],
   "source": [
    "\n",
    "def crossValidation(X:pd.DataFrame, y:pd.DataFrame, model, nFold:int=5):\n",
    "    X_train = X.copy()\n",
    "    y_train = y.copy()\n",
    "    Model = model\n",
    "    kfold= KFold(n_splits=nFold, shuffle=True, random_state=2)\n",
    "    scores = []\n",
    "    for train_idx, val_idx in kfold.split(X_train):\n",
    "        df_train_kf = X_train.iloc[train_idx]\n",
    "        df_val_kf = X_train.iloc[val_idx]\n",
    "    \n",
    "        y_train_kf = y_train.iloc[train_idx]\n",
    "        y_val_kf = y_train.iloc[val_idx]\n",
    "    \n",
    "        Model.fit(df_train_kf, y_train_kf)\n",
    "        pred = Model.predict(df_val_kf)\n",
    "        scores.append(roc_auc_score(y_val_kf, pred))\n",
    "    \n",
    "    return scores"
   ]
  },
  {
   "cell_type": "markdown",
   "metadata": {},
   "source": [
    "<hr>"
   ]
  },
  {
   "cell_type": "markdown",
   "metadata": {},
   "source": [
    "Naive Bayes just have one parameter; <i>var_smoothing</i> "
   ]
  },
  {
   "cell_type": "code",
   "execution_count": 108,
   "metadata": {},
   "outputs": [
    {
     "name": "stdout",
     "output_type": "stream",
     "text": [
      "roc_auc_score mean:0.75 std:0.02\n"
     ]
    }
   ],
   "source": [
    "from sklearn.naive_bayes import GaussianNB\n",
    "clf_NB = GaussianNB(var_smoothing=0.1) \n",
    "\n",
    "scores = crossValidation(X=X_train, y=y_train, model=clf_NB, nFold=10)\n",
    "print('roc_auc_score mean:{0} std:{1}'.format(round(np.mean(scores),2), round(np.std(scores),2)))"
   ]
  },
  {
   "cell_type": "code",
   "execution_count": 109,
   "metadata": {},
   "outputs": [],
   "source": [
    "df_HP = pd.DataFrame(columns=['var_smoothing','roc_auc_score_mean','roc_auc_score_std'])\n",
    "parameter = np.linspace(0, 1, num=200)\n",
    "for i in range( len(parameter) ):\n",
    "    # print(i)\n",
    "    clf_NB = GaussianNB(var_smoothing = parameter[i]) \n",
    "    \n",
    "    scores = crossValidation(X=X_train, y=y_train, model=clf_NB, nFold=10)\n",
    "    df_HP.loc[len(df_HP)]=[ parameter[i], round(np.mean(scores),4), round(np.std(scores),4)]\n",
    "\n",
    "\n",
    "    "
   ]
  },
  {
   "cell_type": "code",
   "execution_count": 110,
   "metadata": {},
   "outputs": [
    {
     "data": {
      "text/html": [
       "<div>\n",
       "<style scoped>\n",
       "    .dataframe tbody tr th:only-of-type {\n",
       "        vertical-align: middle;\n",
       "    }\n",
       "\n",
       "    .dataframe tbody tr th {\n",
       "        vertical-align: top;\n",
       "    }\n",
       "\n",
       "    .dataframe thead th {\n",
       "        text-align: right;\n",
       "    }\n",
       "</style>\n",
       "<table border=\"1\" class=\"dataframe\">\n",
       "  <thead>\n",
       "    <tr style=\"text-align: right;\">\n",
       "      <th></th>\n",
       "      <th>var_smoothing</th>\n",
       "      <th>roc_auc_score_mean</th>\n",
       "      <th>roc_auc_score_std</th>\n",
       "    </tr>\n",
       "  </thead>\n",
       "  <tbody>\n",
       "    <tr>\n",
       "      <th>143</th>\n",
       "      <td>0.718593</td>\n",
       "      <td>0.7506</td>\n",
       "      <td>0.0171</td>\n",
       "    </tr>\n",
       "  </tbody>\n",
       "</table>\n",
       "</div>"
      ],
      "text/plain": [
       "     var_smoothing  roc_auc_score_mean  roc_auc_score_std\n",
       "143       0.718593              0.7506             0.0171"
      ]
     },
     "execution_count": 110,
     "metadata": {},
     "output_type": "execute_result"
    }
   ],
   "source": [
    "\n",
    "df_HP[df_HP.roc_auc_score_mean==df_HP.roc_auc_score_mean.max()]"
   ]
  },
  {
   "cell_type": "code",
   "execution_count": 111,
   "metadata": {},
   "outputs": [
    {
     "data": {
      "image/png": "[encoded data removed]",
      "text/plain": [
       "<Figure size 640x480 with 1 Axes>"
      ]
     },
     "metadata": {},
     "output_type": "display_data"
    }
   ],
   "source": [
    "plt.plot('var_smoothing', 'roc_auc_score_mean', data=df_HP, linestyle='-', marker='')\n",
    "plt.show()"
   ]
  },
  {
   "cell_type": "markdown",
   "metadata": {},
   "source": [
    "var_smoothing 0.718593 give us max roc accuracy so we create a naive base model with this parameter number."
   ]
  },
  {
   "cell_type": "markdown",
   "metadata": {},
   "source": [
    "<hr>"
   ]
  },
  {
   "cell_type": "markdown",
   "metadata": {},
   "source": [
    "<h2>Double check every thing with the test dataset</h2>"
   ]
  },
  {
   "cell_type": "code",
   "execution_count": 112,
   "metadata": {},
   "outputs": [],
   "source": [
    "X_test = preprocess(X_test)\n",
    "X_test = FeatureEngineering(X_test,\n",
    "                            categorical_variables=categorical_important,\n",
    "                            numerical_variables=numerical_important,\n",
    "                            isTrain=False,\n",
    "                            scaleColumns=numerical_important\n",
    "                            )"
   ]
  },
  {
   "cell_type": "code",
   "execution_count": 113,
   "metadata": {},
   "outputs": [
    {
     "data": {
      "text/plain": [
       "0.7669339811715254"
      ]
     },
     "execution_count": 113,
     "metadata": {},
     "output_type": "execute_result"
    }
   ],
   "source": [
    "clf_NB = GaussianNB(var_smoothing = 0.718593)\n",
    "clf_NB.fit(X_train,y_train)\n",
    "pred = clf_NB.predict(X_test)\n",
    "roc_auc_score(y_test, pred)"
   ]
  },
  {
   "cell_type": "markdown",
   "metadata": {},
   "source": [
    "OK<br>\n",
    "Everything is good, the accuracy of the test dataset is as same as the training dataset, So now we are ready to create our model with all data."
   ]
  },
  {
   "cell_type": "markdown",
   "metadata": {},
   "source": [
    "<hr>"
   ]
  }
 ],
 "metadata": {
  "kernelspec": {
   "display_name": "Python 3.10.6 64-bit",
   "language": "python",
   "name": "python3"
  },
  "language_info": {
   "codemirror_mode": {
    "name": "ipython",
    "version": 3
   },
   "file_extension": ".py",
   "mimetype": "text/x-python",
   "name": "python",
   "nbconvert_exporter": "python",
   "pygments_lexer": "ipython3",
   "version": "3.10.6"
  },
  "orig_nbformat": 4,
  "vscode": {
   "interpreter": {
    "hash": "aafc33a19d1e6c143b5a4b283b91d6d8d620b2aadbd9675105175468fd18e65b"
   }
  }
 },
 "nbformat": 4,
 "nbformat_minor": 2
}
