{
 "cells": [
  {
   "cell_type": "markdown",
   "metadata": {},
   "source": [
    "<h2 style='text-align:center'>Create Final Model</h2>"
   ]
  },
  {
   "cell_type": "markdown",
   "metadata": {},
   "source": [
    "<hr>"
   ]
  },
  {
   "cell_type": "code",
   "execution_count": 1,
   "metadata": {},
   "outputs": [],
   "source": [
    "# imprt libraries\n",
    "import os\n",
    "import pandas as pd\n",
    "import numpy as np\n",
    "from sklearn.naive_bayes import GaussianNB\n",
    "import pickle"
   ]
  },
  {
   "cell_type": "code",
   "execution_count": 2,
   "metadata": {},
   "outputs": [],
   "source": [
    "#Data Preprocessing\n",
    "\n",
    "def preprocess(dataset:pd.DataFrame) -> pd.DataFrame :\n",
    "    '''\n",
    "    dataset contain this columns:\n",
    "        'gender':               ['Female' 'Male']\n",
    "        'SeniorCitizen':        [0 1]\n",
    "        'Partner':              ['Yes' 'No']\n",
    "        'Dependents':           ['No' 'Yes']\n",
    "        'tenure':               int\n",
    "        'PhoneService':         ['No' 'Yes']\n",
    "        'MultipleLines':        ['No phone service' 'No' 'Yes']\n",
    "        'InternetService':      ['DSL' 'Fiber optic' 'No']\n",
    "        'OnlineSecurity':       ['No' 'Yes' 'No internet service']\n",
    "        'OnlineBackup':         ['Yes' 'No' 'No internet service']\n",
    "        'DeviceProtection':     ['No' 'Yes' 'No internet service']\n",
    "        'TechSupport':          ['No' 'Yes' 'No internet service']\n",
    "        'StreamingTV':          ['No' 'Yes' 'No internet service']\n",
    "        'StreamingMovies':      ['No' 'Yes' 'No internet service']\n",
    "        'Contract':             ['Month-to-month' 'One year' 'Two year']\n",
    "        'PaperlessBilling':     ['Yes' 'No']\n",
    "        'PaymentMethod':        ['Electronic check' 'Mailed check' 'Bank transfer (automatic)' 'Credit card (automatic)']\n",
    "        'MonthlyCharges':       float\n",
    "        'TotalCharges':         float\n",
    "        'Churn':                ['No' 'Yes']   // Not necessary\n",
    "    '''\n",
    "    df = dataset.copy()\n",
    "\n",
    "    # Prepare string variables\n",
    "    df.columns = df.columns.str.lower().str.replace(' ','_')\n",
    "    string_columns = list(df.dtypes[df.dtypes=='O'].index)\n",
    "    for col in string_columns:\n",
    "        df[col] = df[col].str.lower().str.replace(' ','_')\n",
    "\n",
    "    # drop customerid\n",
    "    if 'customerid' in df.columns:\n",
    "        del df['customerid']\n",
    "        \n",
    "    # Prepare numeric columns type\n",
    "    if 'tenure' in df.columns:\n",
    "        df['tenure'] = pd.to_numeric(df['tenure'], errors='coerce')\n",
    "        df['tenure'] = df['tenure'].fillna(0)\n",
    "    else:\n",
    "        raise Exception(\"!!! Tenure column didn't exist !!!\")\n",
    "\n",
    "    if 'monthlycharges' in df.columns:\n",
    "        df['monthlycharges'] = pd.to_numeric(df['monthlycharges'], errors='coerce')\n",
    "        df['monthlycharges'] = df['monthlycharges'].fillna(0)\n",
    "    else:\n",
    "        raise Exception(\"!!! MonthlyCharges column didn't exist !!!\")\n",
    "\n",
    "    if 'totalcharges' in df.columns:\n",
    "        df['totalcharges'] = pd.to_numeric(df['totalcharges'], errors='coerce')\n",
    "        df['totalcharges'] = df['totalcharges'].fillna(0)\n",
    "    else:\n",
    "        raise Exception(\"!!! TotalCharges column didn't exist !!!\")\n",
    "        \n",
    "    # Make dependent variable numeric\n",
    "    if 'churn' in df.columns:\n",
    "        df.churn = (df.churn == 'yes').astype(int)\n",
    "    \n",
    "    return df"
   ]
  },
  {
   "cell_type": "code",
   "execution_count": 3,
   "metadata": {},
   "outputs": [],
   "source": [
    "# Feature Engineering\n",
    "\n",
    "def FeatureEngineering(dataset:pd.DataFrame,\n",
    "                       categorical_variables:list,\n",
    "                       numerical_variables:list,\n",
    "                       isTrain:bool,\n",
    "                       scaleColumns:list):\n",
    "    \"\"\"\n",
    "    dataset: pd.Dataframe\n",
    "    categorical_variables: list of important categorical columns that we want to use in pur model\n",
    "    numerical_variables: list of important numerical columns that we want to use in pur model\n",
    "    isTrain:    if you want to train a model, set it 'True'\n",
    "                if you want to use for test or deployment set it 'False'\n",
    "    \"\"\"\n",
    "    df = dataset.copy()\n",
    "    categorical_important = categorical_variables.copy()\n",
    "    numerical_important = numerical_variables.copy()\n",
    "    df = df[numerical_important + categorical_important]\n",
    "\n",
    "    # we create a folder to save our data there \n",
    "    path = os.getcwd()\n",
    "    assets_path = path+'\\\\assets'\n",
    "    if not os.path.exists(assets_path):\n",
    "        os.makedirs(assets_path)\n",
    "\n",
    "    # Dummy variables\n",
    "    if isTrain:\n",
    "        def ohe(dataset:pd.DataFrame, categorical_columns:str):\n",
    "            df = dataset.copy()\n",
    "            df_info = pd.DataFrame(columns=['col', 'uniques'])\n",
    "            for col in categorical_columns:\n",
    "                list_Uniques = df[col].unique()\n",
    "                df_info.loc[len(df_info)] = [col, ','.join(map(str, list_Uniques))]\n",
    "                for name in list_Uniques:\n",
    "                    df[str(col)+'_'+str(name)] = df[col].apply(lambda x : 1 if x==name else 0)\n",
    "                del df[col]\n",
    "\n",
    "            df_info.to_csv(assets_path+'\\\\ohe_info.csv', index=False)\n",
    "            return df\n",
    "\n",
    "        df=ohe(df, categorical_important)\n",
    "    else:\n",
    "        df_info = pd.read_csv(assets_path+'\\ohe_info.csv')\n",
    "        for i in range(len(df_info)):\n",
    "            col = df_info.iloc[i,:].col\n",
    "            list_Uniques = df_info.iloc[i,:].uniques.split(',')\n",
    "            for name in list_Uniques:\n",
    "                df[str(col)+'_'+str(name)] =  df[col].apply(lambda x : 1 if x==name else 0)\n",
    "            del df[col]\n",
    "\n",
    "    # Feature scaling\n",
    "    if isTrain:\n",
    "        scale_info = pd.DataFrame(columns=['col','mean','std'])\n",
    "        for col in scaleColumns:\n",
    "            mean_col = df[col].mean()\n",
    "            std_col = df[col].std()\n",
    "            df[col] = (df[col]-mean_col)/std_col\n",
    "            scale_info.loc[len(scale_info)] = [col, mean_col, std_col]\n",
    "        \n",
    "        scale_info.to_csv(assets_path+'\\\\scale_info.csv', index=False)\n",
    "    else:\n",
    "        scale_info = pd.read_csv(assets_path+'\\\\scale_info.csv')\n",
    "        \n",
    "        for i in range(len(scale_info)):\n",
    "            col = scale_info.loc[i,'col']\n",
    "            mean_col = scale_info.loc[i,'mean']\n",
    "            std_col = scale_info.loc[i,'std']\n",
    "\n",
    "            df[col] = (df[col]-mean_col)/std_col\n",
    "    return df"
   ]
  },
  {
   "cell_type": "code",
   "execution_count": 4,
   "metadata": {},
   "outputs": [],
   "source": [
    "df = pd.read_csv('Churn_prediction.csv')\n",
    "categorical_important=['contract', 'onlinesecurity', 'techsupport', 'internetservice']\n",
    "numerical_important = ['tenure', 'monthlycharges', 'totalcharges']\n",
    "\n",
    "y_train = df.Churn\n",
    "df = preprocess(df)\n",
    "df = FeatureEngineering(df,\n",
    "                        categorical_variables=categorical_important,\n",
    "                        numerical_variables=numerical_important,\n",
    "                        isTrain=True,\n",
    "                        scaleColumns=numerical_important)\n",
    "\n",
    "clf_NB = GaussianNB(var_smoothing = 0.718593).fit( df.loc[:,df.columns!='churn'], y_train )"
   ]
  },
  {
   "cell_type": "code",
   "execution_count": 5,
   "metadata": {},
   "outputs": [
    {
     "name": "stdout",
     "output_type": "stream",
     "text": [
      "Model successfully created.\n"
     ]
    }
   ],
   "source": [
    "# Save the model\n",
    "path = os.getcwd()\n",
    "assets_path = path+'\\\\assets'\n",
    "if not os.path.exists(assets_path):\n",
    "    os.makedirs(assets_path)\n",
    "\n",
    "filename = assets_path+'\\\\Model.sav'\n",
    "pickle.dump(clf_NB, open(filename, 'wb'))\n",
    "print('Model successfully created.')"
   ]
  },
  {
   "cell_type": "markdown",
   "metadata": {},
   "source": [
    "<hr>"
   ]
  },
  {
   "cell_type": "markdown",
   "metadata": {},
   "source": [
    "Use the model "
   ]
  },
  {
   "cell_type": "code",
   "execution_count": 6,
   "metadata": {},
   "outputs": [
    {
     "data": {
      "text/plain": [
       "array(['Yes'], dtype='<U3')"
      ]
     },
     "execution_count": 6,
     "metadata": {},
     "output_type": "execute_result"
    }
   ],
   "source": [
    "# imprt libraries\n",
    "import os\n",
    "import pandas as pd\n",
    "import numpy as np\n",
    "from sklearn.naive_bayes import GaussianNB\n",
    "import pickle\n",
    "\n",
    "Customer1 = pd.DataFrame(data={\n",
    "    'contract': ['Month-to-month'],\n",
    "    'onlinesecurity': ['Yes'],\n",
    "    'techsupport': ['No'],\n",
    "    'internetservice': ['DSL'],\n",
    "    'tenure': [2],\n",
    "    'monthlycharges': [53.85],\n",
    "    'totalcharges': [108.15]})\n",
    "\n",
    "categorical_important=['contract', 'onlinesecurity', 'techsupport', 'internetservice']\n",
    "numerical_important = ['tenure', 'monthlycharges', 'totalcharges']\n",
    "\n",
    "Customer1 = preprocess(Customer1)\n",
    "Customer1 = FeatureEngineering(Customer1,\n",
    "                               categorical_variables=categorical_important,\n",
    "                               numerical_variables=numerical_important,\n",
    "                               isTrain=False,\n",
    "                               scaleColumns=numerical_important)\n",
    "\n",
    "path = os.getcwd()\n",
    "assets_path = path+'\\\\assets'\n",
    "filename = assets_path+'\\\\Model.sav'\n",
    "model = pickle.load(open(filename, 'rb'))\n",
    "\n",
    "pred = model.predict(Customer1)\n",
    "pred"
   ]
  },
  {
   "cell_type": "markdown",
   "metadata": {},
   "source": [
    "Eventually our model is ready to use :)"
   ]
  }
 ],
 "metadata": {
  "kernelspec": {
   "display_name": "Python 3.10.6 64-bit",
   "language": "python",
   "name": "python3"
  },
  "language_info": {
   "codemirror_mode": {
    "name": "ipython",
    "version": 3
   },
   "file_extension": ".py",
   "mimetype": "text/x-python",
   "name": "python",
   "nbconvert_exporter": "python",
   "pygments_lexer": "ipython3",
   "version": "3.10.6"
  },
  "orig_nbformat": 4,
  "vscode": {
   "interpreter": {
    "hash": "aafc33a19d1e6c143b5a4b283b91d6d8d620b2aadbd9675105175468fd18e65b"
   }
  }
 },
 "nbformat": 4,
 "nbformat_minor": 2
}
