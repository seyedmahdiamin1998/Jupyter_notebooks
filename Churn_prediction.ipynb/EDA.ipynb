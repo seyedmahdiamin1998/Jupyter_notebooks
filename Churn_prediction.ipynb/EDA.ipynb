{
 "cells": [
  {
   "cell_type": "code",
   "execution_count": 4,
   "metadata": {},
   "outputs": [],
   "source": [
    "import pandas as pd\n",
    "df = pd.read_csv('Churn_prediction.csv')"
   ]
  },
  {
   "cell_type": "code",
   "execution_count": 5,
   "metadata": {},
   "outputs": [],
   "source": [
    "def data_preprocessing(dataset):\n",
    "    df = dataset.copy()\n",
    "    columns = ['customerID','gender','SeniorCitizen',\n",
    "                'Partner','Dependents','tenure','PhoneService',\n",
    "                'MultipleLines','InternetService','OnlineSecurity',\n",
    "                'OnlineBackup','DeviceProtection','TechSupport',\n",
    "                'StreamingTV','StreamingMovies','Contract',\n",
    "                'PaperlessBilling','PaymentMethod',\n",
    "                'MonthlyCharges','TotalCharges','Churn']\n",
    "    # create columns not exist\n",
    "    notImported=list(set(columns) - set(df.columns))\n",
    "    if len(notImported):\n",
    "        print(\"{0}, column(s) don't(doesn't) exist\".format(notImported))\n",
    "        print('!!! please enter this column first !!!')\n",
    "\n",
    "    else:\n",
    "            \n",
    "        # make TotalCharges numeric                  \n",
    "        df['TotalCharges'] = pd.to_numeric(df['TotalCharges'], errors='coerce')\n",
    "        df['TotalCharges'] = df['TotalCharges'].fillna(0)\n",
    "        # prepare string variables\n",
    "        df.columns = df.columns.str.lower().str.replace(' ','_')\n",
    "        string_columns = list(df.dtypes[df.dtypes=='O'].index)\n",
    "        for col in string_columns:\n",
    "            df[col] = df[col].str.lower().str.replace(' ','_')\n",
    "        # make dependent variable numeric\n",
    "        df.churn = (df.churn == 'yes').astype(int)\n",
    "        # drop duplicates\n",
    "        df.drop_duplicates(inplace=True)\n",
    "    \n",
    "        return df\n",
    "\n",
    "df = pd.read_csv('Churn_prediction.csv')\n",
    "df = data_preprocessing(df)"
   ]
  },
  {
   "cell_type": "code",
   "execution_count": null,
   "metadata": {},
   "outputs": [],
   "source": []
  }
 ],
 "metadata": {
  "kernelspec": {
   "display_name": "Python 3.10.6 64-bit",
   "language": "python",
   "name": "python3"
  },
  "language_info": {
   "codemirror_mode": {
    "name": "ipython",
    "version": 3
   },
   "file_extension": ".py",
   "mimetype": "text/x-python",
   "name": "python",
   "nbconvert_exporter": "python",
   "pygments_lexer": "ipython3",
   "version": "3.10.6"
  },
  "orig_nbformat": 4,
  "vscode": {
   "interpreter": {
    "hash": "aafc33a19d1e6c143b5a4b283b91d6d8d620b2aadbd9675105175468fd18e65b"
   }
  }
 },
 "nbformat": 4,
 "nbformat_minor": 2
}
