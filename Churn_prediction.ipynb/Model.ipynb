{
 "cells": [
  {
   "cell_type": "code",
   "execution_count": 8,
   "metadata": {},
   "outputs": [],
   "source": [
    "import pandas as pd\n",
    "from sklearn.preprocessing import OneHotEncoder\n",
    "from sklearn.compose import make_column_transformer\n",
    "from sklearn.preprocessing import StandardScaler\n",
    "import pickle"
   ]
  },
  {
   "cell_type": "code",
   "execution_count": 9,
   "metadata": {},
   "outputs": [],
   "source": [
    "#data_preprocessing\n",
    "\n",
    "def data_preprocessing(dataset:pd.DataFrame):\n",
    "    '''\n",
    "    dataset contain this columns:\n",
    "        'gender':               ['Female' 'Male']\n",
    "        'SeniorCitizen':        [0 1]\n",
    "        'Partner':              ['Yes' 'No']\n",
    "        'Dependents':           ['No' 'Yes']\n",
    "        'tenure':               int\n",
    "        'PhoneService':         ['No' 'Yes']\n",
    "        'MultipleLines':        ['No phone service' 'No' 'Yes']\n",
    "        'InternetService':      ['DSL' 'Fiber optic' 'No']\n",
    "        'OnlineSecurity':       ['No' 'Yes' 'No internet service']\n",
    "        'OnlineBackup':         ['Yes' 'No' 'No internet service']\n",
    "        'DeviceProtection':     ['No' 'Yes' 'No internet service']\n",
    "        'TechSupport':          ['No' 'Yes' 'No internet service']\n",
    "        'StreamingTV':          ['No' 'Yes' 'No internet service']\n",
    "        'StreamingMovies':      ['No' 'Yes' 'No internet service']\n",
    "        'Contract':             ['Month-to-month' 'One year' 'Two year']\n",
    "        'PaperlessBilling':     ['Yes' 'No']\n",
    "        'PaymentMethod':        ['Electronic check' 'Mailed check' 'Bank transfer (automatic)' 'Credit card (automatic)']\n",
    "        'MonthlyCharges':       float\n",
    "        'TotalCharges':         float\n",
    "        'Churn':                ['No' 'Yes']   // Not necessary\n",
    "    '''\n",
    "    df = dataset.copy()\n",
    "\n",
    "    # Prepare string variables\n",
    "    df.columns = df.columns.str.lower().str.replace(' ','_')\n",
    "    string_columns = list(df.dtypes[df.dtypes=='O'].index)\n",
    "    for col in string_columns:\n",
    "        df[col] = df[col].str.lower().str.replace(' ','_')\n",
    "\n",
    "    # drop customerid\n",
    "    if 'customerid' in df.columns:\n",
    "        del df['customerid']\n",
    "        \n",
    "    # Prepare numeric columns type\n",
    "    if 'tenure' in df.columns:\n",
    "        df['tenure'] = pd.to_numeric(df['tenure'], errors='coerce')\n",
    "        df['tenure'] = df['tenure'].fillna(0)\n",
    "    else:\n",
    "        raise Exception(\"!!! Tenure column didn't exist !!!\")\n",
    "\n",
    "    if 'monthlycharges' in df.columns:\n",
    "        df['monthlycharges'] = pd.to_numeric(df['monthlycharges'], errors='coerce')\n",
    "        df['monthlycharges'] = df['monthlycharges'].fillna(0)\n",
    "    else:\n",
    "        raise Exception(\"!!! MonthlyCharges column didn't exist !!!\")\n",
    "\n",
    "    if 'totalcharges' in df.columns:\n",
    "        df['totalcharges'] = pd.to_numeric(df['totalcharges'], errors='coerce')\n",
    "        df['totalcharges'] = df['totalcharges'].fillna(0)\n",
    "    else:\n",
    "        raise Exception(\"!!! TotalCharges column didn't exist !!!\")\n",
    "        \n",
    "    # Make dependent variable numeric\n",
    "    if 'churn' in df.columns:\n",
    "        df.churn = (df.churn == 'yes').astype(int)\n",
    "    \n",
    "    return df"
   ]
  },
  {
   "cell_type": "code",
   "execution_count": 10,
   "metadata": {},
   "outputs": [],
   "source": [
    "# FeatureEngineering\n",
    "\n",
    "def FeatureEngineering(dataset:pd.DataFrame, categorical_variables:list, numerical_variables:list, isTrain:bool):\n",
    "    \"\"\"\n",
    "    dataset: pd.Dataframe\n",
    "    categorical_variables: list of important categorical columns that we want to use in pur model\n",
    "    numerical_variables: list of important numerical columns that we want to use in pur model\n",
    "    isTrain:    if you want to train a model, set it 'True'\n",
    "                if you want to use for test or deployment set it 'False'\n",
    "    \"\"\"\n",
    "    df = dataset.copy()\n",
    "    categorical_important = categorical_variables.copy()\n",
    "    numerical_important = numerical_variables.copy()\n",
    "\n",
    "    df = df[numerical_important + categorical_important]\n",
    "\n",
    "    # Dummy variables\n",
    "    if isTrain:\n",
    "        def ohe(dataset:pd.DataFrame, categorical_columns:str):\n",
    "            df = dataset.copy()\n",
    "            df_info = pd.DataFrame(columns=['col', 'uniques'])\n",
    "            for col in categorical_columns:\n",
    "                list_Uniques = df[col].unique()\n",
    "                df_info.loc[len(df_info)] = [col, ','.join(map(str, list_Uniques))]\n",
    "                for name in list_Uniques:\n",
    "                    df[str(col)+'_'+str(name)] = df[col].apply(lambda x : 1 if x==name else 0)\n",
    "                del df[col]\n",
    "\n",
    "            df_info.to_csv('assets/ohe_info.csv', index=False)\n",
    "            return df\n",
    "\n",
    "        df=ohe(df, categorical_important)\n",
    "    else:\n",
    "        df_info = pd.read_csv('assets/ohe_info.csv')\n",
    "        for i in range(len(df_info)):\n",
    "            col = df_info.iloc[i,:].col\n",
    "            list_Uniques = df_info.iloc[i,:].uniques.split(',')\n",
    "            for name in list_Uniques:\n",
    "                df[str(col)+'_'+str(name)] =  df[col].apply(lambda x : 1 if x==name else 0)\n",
    "            del df[col]\n",
    "\n",
    "    # Feature scaling\n",
    "    if isTrain:\n",
    "        scaler = StandardScaler()\n",
    "        scaler.fit(df)\n",
    "        df = scaler.transform(df)\n",
    "        df = pd.DataFrame(df, columns=scaler.feature_names_in_)\n",
    "        pickle.dump(scaler, open('assets/scaler.pkl','wb'))\n",
    "    else:\n",
    "        scaler = pickle.load(open('assets/scaler.pkl','rb'))\n",
    "        df = scaler.transform(df)\n",
    "        df = pd.DataFrame(df, columns=scaler.feature_names_in_)\n",
    "\n",
    "    return df"
   ]
  },
  {
   "cell_type": "code",
   "execution_count": 11,
   "metadata": {},
   "outputs": [],
   "source": [
    "df = pd.read_csv('Churn_prediction.csv')\n",
    "df.drop_duplicates(inplace=True)"
   ]
  },
  {
   "cell_type": "markdown",
   "metadata": {},
   "source": [
    "<h2>Split dataset</h2>"
   ]
  },
  {
   "cell_type": "code",
   "execution_count": 12,
   "metadata": {},
   "outputs": [],
   "source": [
    "from sklearn.model_selection import train_test_split\n",
    "X_train, X_test, y_train, y_test = train_test_split(df.loc[:,df.columns!='Churn'],\n",
    "                                                    df['Churn'],\n",
    "                                                    test_size=0.2,\n",
    "                                                    random_state=1)\n",
    "\n",
    "X_train.reset_index(inplace=True,drop=True)\n",
    "X_test.reset_index(inplace=True,drop=True)\n",
    "\n",
    "y_train = [1 if x == 'Yes' else 0 for x in y_train]\n",
    "y_test = [1 if x == 'Yes' else 0 for x in y_test]"
   ]
  },
  {
   "cell_type": "code",
   "execution_count": 13,
   "metadata": {},
   "outputs": [],
   "source": [
    "categorical_important = ['contract', 'onlinesecurity', 'techsupport', 'internetservice']\n",
    "numerical_important = ['tenure', 'monthlycharges', 'totalcharges']\n",
    "\n",
    "X_train = data_preprocessing(X_train)\n",
    "X_train = FeatureEngineering(X_train,\n",
    "                              categorical_variables=categorical_important,\n",
    "                              numerical_variables=numerical_important,\n",
    "                              isTrain=True)\n"
   ]
  },
  {
   "cell_type": "markdown",
   "metadata": {},
   "source": [
    "<h2>1) Logistic Regression</h2>"
   ]
  },
  {
   "cell_type": "code",
   "execution_count": 14,
   "metadata": {},
   "outputs": [
    {
     "name": "stdout",
     "output_type": "stream",
     "text": [
      "0.8376264239962852\n"
     ]
    },
    {
     "data": {
      "text/plain": [
       "{'fit_time': array([0.08399796, 0.05193305, 0.0551672 , 0.0739975 , 0.07336783,\n",
       "        0.06694198, 0.06601596, 0.07080531, 0.04302287, 0.03884459]),\n",
       " 'score_time': array([0.00893831, 0.00701499, 0.01686835, 0.00699735, 0.00696564,\n",
       "        0.00507402, 0.0070076 , 0.00500035, 0.00699186, 0.0060041 ]),\n",
       " 'test_score': array([0.85365036, 0.83771398, 0.83990164, 0.81330407, 0.81135549,\n",
       "        0.86550775, 0.83918395, 0.86615604, 0.81463696, 0.83485401]),\n",
       " 'train_score': array([0.83714863, 0.83912527, 0.83828389, 0.84222364, 0.84223135,\n",
       "        0.83614093, 0.83873838, 0.83602057, 0.84135448, 0.83923611])}"
      ]
     },
     "execution_count": 14,
     "metadata": {},
     "output_type": "execute_result"
    }
   ],
   "source": [
    "from random import shuffle\n",
    "from sklearn.model_selection import cross_validate\n",
    "from sklearn.linear_model import LogisticRegression\n",
    "clf_LogisticRegression = LogisticRegression(random_state=0)\n",
    "\n",
    "\n",
    "scores = cross_validate(clf_LogisticRegression, X_train, y_train, cv=10,\n",
    "                        scoring=('roc_auc'),\n",
    "                        return_train_score=True)\n",
    "# scores['test_score']\n",
    "print(scores['test_score'].mean())\n",
    "scores\n",
    "\n"
   ]
  },
  {
   "cell_type": "markdown",
   "metadata": {},
   "source": [
    "<h2>2) K Nearest Neighbors</h2>"
   ]
  },
  {
   "cell_type": "code",
   "execution_count": 15,
   "metadata": {},
   "outputs": [
    {
     "name": "stdout",
     "output_type": "stream",
     "text": [
      "0.790584485844429\n"
     ]
    }
   ],
   "source": [
    "from sklearn.neighbors import KNeighborsClassifier\n",
    "clf_KNN = KNeighborsClassifier()\n",
    "\n",
    "scores = cross_validate(clf_KNN, X_train, y_train, cv=6,\n",
    "                        scoring=('roc_auc'),\n",
    "                        return_train_score=True)\n",
    "print(scores['test_score'].mean())\n"
   ]
  },
  {
   "cell_type": "markdown",
   "metadata": {},
   "source": [
    "<h2>3) Naive Bayes</h2>"
   ]
  },
  {
   "cell_type": "code",
   "execution_count": 16,
   "metadata": {},
   "outputs": [
    {
     "name": "stdout",
     "output_type": "stream",
     "text": [
      "0.8249552305843864\n"
     ]
    }
   ],
   "source": [
    "from sklearn.naive_bayes import GaussianNB\n",
    "clf_NB = GaussianNB()\n",
    "\n",
    "scores = cross_validate(clf_NB, X_train, y_train, cv=6,\n",
    "                        scoring=('roc_auc'),\n",
    "                        return_train_score=True)\n",
    "print(scores['test_score'].mean())\n"
   ]
  },
  {
   "cell_type": "markdown",
   "metadata": {},
   "source": [
    "<h2>4) Support Vector machine for Classification (SVC)</h2>"
   ]
  },
  {
   "cell_type": "code",
   "execution_count": 17,
   "metadata": {},
   "outputs": [
    {
     "name": "stdout",
     "output_type": "stream",
     "text": [
      "0.8122607028139761\n"
     ]
    }
   ],
   "source": [
    "from sklearn.svm import SVC\n",
    "clf_SVC = SVC(kernel='linear', random_state=6)\n",
    "\n",
    "scores = cross_validate(clf_SVC, X_train, y_train, cv=6,\n",
    "                        scoring=('roc_auc'),\n",
    "                        return_train_score=True)\n",
    "print(scores['test_score'].mean())\n",
    "# kernel\n",
    "#  -sigmoid   0.7217249049598338\n",
    "#  -poly      0.8158020900887415\n",
    "#  -rbf       0.7720218063211098\n",
    "#  -linear    0.8092300188309788\n"
   ]
  },
  {
   "cell_type": "markdown",
   "metadata": {},
   "source": [
    "<h2>5) Desicion Tree Classification</h2>"
   ]
  },
  {
   "cell_type": "code",
   "execution_count": 18,
   "metadata": {},
   "outputs": [
    {
     "name": "stdout",
     "output_type": "stream",
     "text": [
      "0.6613870088676238\n"
     ]
    }
   ],
   "source": [
    "from calendar import c\n",
    "from sklearn.tree import DecisionTreeClassifier\n",
    "clf_DT = DecisionTreeClassifier(criterion='entropy', random_state=6)\n",
    "\n",
    "scores = cross_validate(clf_DT, X_train, y_train, cv=6,\n",
    "                        scoring=('roc_auc'),\n",
    "                        return_train_score=True)\n",
    "print(scores['test_score'].mean())\n",
    "# criterion\n",
    "#   -gini      0.666598842172868\n",
    "#   -entropy   0.6673704556237601"
   ]
  },
  {
   "cell_type": "markdown",
   "metadata": {},
   "source": [
    "<h2>6) Random Forest</h2>"
   ]
  },
  {
   "cell_type": "code",
   "execution_count": 19,
   "metadata": {},
   "outputs": [
    {
     "name": "stdout",
     "output_type": "stream",
     "text": [
      "0.7972289630146374\n"
     ]
    }
   ],
   "source": [
    "from sklearn.ensemble import RandomForestClassifier\n",
    "\n",
    "clf_RF = RandomForestClassifier(n_estimators=100, criterion='entropy', random_state=6)\n",
    "\n",
    "scores = cross_validate(clf_RF, X_train, y_train, cv=6,\n",
    "                        scoring=('roc_auc'),\n",
    "                        return_train_score=True)\n",
    "print(scores['test_score'].mean())\n",
    "# criterion\n",
    "#   -gini       0.7940777923624925    \n",
    "#   -entropy    0.7955202892868366  "
   ]
  },
  {
   "cell_type": "markdown",
   "metadata": {},
   "source": [
    "<h2>7) XGBoost</h2>"
   ]
  },
  {
   "cell_type": "code",
   "execution_count": 20,
   "metadata": {},
   "outputs": [
    {
     "name": "stdout",
     "output_type": "stream",
     "text": [
      "0.8149869204235021\n"
     ]
    }
   ],
   "source": [
    "from xgboost import XGBClassifier\n",
    "\n",
    "clf_xgboost = XGBClassifier()\n",
    "\n",
    "scores = cross_validate(clf_xgboost, X_train, y_train, cv=6,\n",
    "                        scoring=('roc_auc'),\n",
    "                        return_train_score=True)\n",
    "print(scores['test_score'].mean())"
   ]
  },
  {
   "cell_type": "markdown",
   "metadata": {},
   "source": [
    "<h2>8) Gradiant Boosting model</h2>"
   ]
  },
  {
   "cell_type": "code",
   "execution_count": 21,
   "metadata": {},
   "outputs": [
    {
     "name": "stdout",
     "output_type": "stream",
     "text": [
      "0.8409460200412692\n"
     ]
    }
   ],
   "source": [
    "from sklearn.ensemble import GradientBoostingClassifier\n",
    "\n",
    "clf_GB = GradientBoostingClassifier(n_estimators=20, learning_rate=0.1, max_depth=3)\n",
    "\n",
    "scores = cross_validate(clf_GB, X_train, y_train, cv=6,\n",
    "                        scoring=('roc_auc'),\n",
    "                        return_train_score=True)\n",
    "print(scores['test_score'].mean())"
   ]
  }
 ],
 "metadata": {
  "kernelspec": {
   "display_name": "Python 3.10.6 64-bit",
   "language": "python",
   "name": "python3"
  },
  "language_info": {
   "codemirror_mode": {
    "name": "ipython",
    "version": 3
   },
   "file_extension": ".py",
   "mimetype": "text/x-python",
   "name": "python",
   "nbconvert_exporter": "python",
   "pygments_lexer": "ipython3",
   "version": "3.10.6"
  },
  "orig_nbformat": 4,
  "vscode": {
   "interpreter": {
    "hash": "aafc33a19d1e6c143b5a4b283b91d6d8d620b2aadbd9675105175468fd18e65b"
   }
  }
 },
 "nbformat": 4,
 "nbformat_minor": 2
}
