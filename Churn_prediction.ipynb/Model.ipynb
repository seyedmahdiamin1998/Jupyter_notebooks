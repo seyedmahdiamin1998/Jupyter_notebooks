{
 "cells": [
  {
   "cell_type": "code",
   "execution_count": 1,
   "metadata": {},
   "outputs": [],
   "source": [
    "import pandas as pd\n",
    "from sklearn.preprocessing import OneHotEncoder\n",
    "from sklearn.compose import make_column_transformer\n",
    "from sklearn.preprocessing import StandardScaler\n",
    "import pickle\n",
    "\n",
    "def data_preprocessing(dataset:pd.DataFrame):\n",
    "    '''\n",
    "    dataset contain this columns:\n",
    "        'gender':               ['Female' 'Male']\n",
    "        'SeniorCitizen':        [0 1]\n",
    "        'Partner':              ['Yes' 'No']\n",
    "        'Dependents':           ['No' 'Yes']\n",
    "        'tenure':               int\n",
    "        'PhoneService':         ['No' 'Yes']\n",
    "        'MultipleLines':        ['No phone service' 'No' 'Yes']\n",
    "        'InternetService':      ['DSL' 'Fiber optic' 'No']\n",
    "        'OnlineSecurity':       ['No' 'Yes' 'No internet service']\n",
    "        'OnlineBackup':         ['Yes' 'No' 'No internet service']\n",
    "        'DeviceProtection':     ['No' 'Yes' 'No internet service']\n",
    "        'TechSupport':          ['No' 'Yes' 'No internet service']\n",
    "        'StreamingTV':          ['No' 'Yes' 'No internet service']\n",
    "        'StreamingMovies':      ['No' 'Yes' 'No internet service']\n",
    "        'Contract':             ['Month-to-month' 'One year' 'Two year']\n",
    "        'PaperlessBilling':     ['Yes' 'No']\n",
    "        'PaymentMethod':        ['Electronic check' 'Mailed check' 'Bank transfer (automatic)' 'Credit card (automatic)']\n",
    "        'MonthlyCharges':       float\n",
    "        'TotalCharges':         float\n",
    "        'Churn':                ['No' 'Yes']   // Not necessary\n",
    "    '''\n",
    "    df = dataset.copy()\n",
    "\n",
    "    # Prepare string variables\n",
    "    df.columns = df.columns.str.lower().str.replace(' ','_')\n",
    "    string_columns = list(df.dtypes[df.dtypes=='O'].index)\n",
    "    for col in string_columns:\n",
    "        df[col] = df[col].str.lower().str.replace(' ','_')\n",
    "\n",
    "    # drop customerid\n",
    "    if 'customerid' in df.columns:\n",
    "        del df['customerid']\n",
    "        \n",
    "    # Prepare numeric columns type\n",
    "    if 'tenure' in df.columns:\n",
    "        df['tenure'] = pd.to_numeric(df['tenure'], errors='coerce')\n",
    "        df['tenure'] = df['tenure'].fillna(0)\n",
    "    else:\n",
    "        raise Exception(\"!!! Tenure column didn't exist !!!\")\n",
    "\n",
    "    if 'monthlycharges' in df.columns:\n",
    "        df['monthlycharges'] = pd.to_numeric(df['monthlycharges'], errors='coerce')\n",
    "        df['monthlycharges'] = df['monthlycharges'].fillna(0)\n",
    "    else:\n",
    "        raise Exception(\"!!! MonthlyCharges column didn't exist !!!\")\n",
    "\n",
    "    if 'totalcharges' in df.columns:\n",
    "        df['totalcharges'] = pd.to_numeric(df['totalcharges'], errors='coerce')\n",
    "        df['totalcharges'] = df['totalcharges'].fillna(0)\n",
    "    else:\n",
    "        raise Exception(\"!!! TotalCharges column didn't exist !!!\")\n",
    "        \n",
    "    # Make dependent variable numeric\n",
    "    if 'churn' in df.columns:\n",
    "        df.churn = (df.churn == 'yes').astype(int)\n",
    "        \n",
    "    # Drop duplicates\n",
    "    df.drop_duplicates(inplace=True)\n",
    "    \n",
    "    return df\n",
    "\n",
    "def FeatureEngineering(dataset:pd.DataFrame, categorical_variables:list, numerical_variables:list, target_variable:str):\n",
    "    df = dataset.copy()\n",
    "    categorical_important = categorical_variables.copy()\n",
    "    numerical_important = numerical_variables.copy()\n",
    "    dependent_variable = [target_variable.lower().replace(' ','_')]\n",
    "\n",
    "    df = df[numerical_important + categorical_important]\n",
    "    \n",
    "    # Dummy variables\n",
    "    OHE = make_column_transformer((OneHotEncoder(), categorical_important ),\n",
    "                                        remainder='passthrough',\n",
    "                                        verbose_feature_names_out=False)\n",
    "    ohe = OHE.fit_transform(df)\n",
    "    pickle.dump(ohe, open('OneHotEncoder.pkl','wb'))\n",
    "    df = pd.DataFrame(ohe, columns=OHE.get_feature_names_out())\n",
    "\n",
    "    # Feature scaling\n",
    "    scaler = StandardScaler()\n",
    "    scaler.fit(df)\n",
    "    pickle.dump(scaler, open('scaler.pkl','wb'))\n",
    "    df = scaler.transform(df)\n",
    "    df = pd.DataFrame(df,columns=scaler.feature_names_in_)\n",
    "    \n",
    "    #add target variable\n",
    "    df[dependent_variable] = dataset[dependent_variable]\n",
    "    return df"
   ]
  },
  {
   "cell_type": "code",
   "execution_count": 2,
   "metadata": {},
   "outputs": [],
   "source": [
    "df = pd.read_csv('Churn_prediction.csv')"
   ]
  },
  {
   "cell_type": "markdown",
   "metadata": {},
   "source": [
    "<h2>Split dataset</h2>"
   ]
  },
  {
   "cell_type": "code",
   "execution_count": 3,
   "metadata": {},
   "outputs": [],
   "source": [
    "from sklearn.model_selection import train_test_split\n",
    "df_train, df_test = train_test_split(df, test_size=0.2, random_state=666)\n",
    "\n",
    "df_train.reset_index(inplace=True,drop=True)\n",
    "df_test.reset_index(inplace=True,drop=True)\n"
   ]
  },
  {
   "cell_type": "code",
   "execution_count": 4,
   "metadata": {},
   "outputs": [
    {
     "data": {
      "text/html": [
       "<div>\n",
       "<style scoped>\n",
       "    .dataframe tbody tr th:only-of-type {\n",
       "        vertical-align: middle;\n",
       "    }\n",
       "\n",
       "    .dataframe tbody tr th {\n",
       "        vertical-align: top;\n",
       "    }\n",
       "\n",
       "    .dataframe thead th {\n",
       "        text-align: right;\n",
       "    }\n",
       "</style>\n",
       "<table border=\"1\" class=\"dataframe\">\n",
       "  <thead>\n",
       "    <tr style=\"text-align: right;\">\n",
       "      <th></th>\n",
       "      <th>0</th>\n",
       "      <th>1</th>\n",
       "      <th>2</th>\n",
       "      <th>3</th>\n",
       "      <th>4</th>\n",
       "    </tr>\n",
       "  </thead>\n",
       "  <tbody>\n",
       "    <tr>\n",
       "      <th>contract_month-to-month</th>\n",
       "      <td>0.908986</td>\n",
       "      <td>0.908986</td>\n",
       "      <td>0.908986</td>\n",
       "      <td>0.908986</td>\n",
       "      <td>0.908986</td>\n",
       "    </tr>\n",
       "    <tr>\n",
       "      <th>contract_one_year</th>\n",
       "      <td>-0.518023</td>\n",
       "      <td>-0.518023</td>\n",
       "      <td>-0.518023</td>\n",
       "      <td>-0.518023</td>\n",
       "      <td>-0.518023</td>\n",
       "    </tr>\n",
       "    <tr>\n",
       "      <th>contract_two_year</th>\n",
       "      <td>-0.563275</td>\n",
       "      <td>-0.563275</td>\n",
       "      <td>-0.563275</td>\n",
       "      <td>-0.563275</td>\n",
       "      <td>-0.563275</td>\n",
       "    </tr>\n",
       "    <tr>\n",
       "      <th>onlinesecurity_no</th>\n",
       "      <td>1.004269</td>\n",
       "      <td>1.004269</td>\n",
       "      <td>1.004269</td>\n",
       "      <td>1.004269</td>\n",
       "      <td>1.004269</td>\n",
       "    </tr>\n",
       "    <tr>\n",
       "      <th>onlinesecurity_no_internet_service</th>\n",
       "      <td>-0.522980</td>\n",
       "      <td>-0.522980</td>\n",
       "      <td>-0.522980</td>\n",
       "      <td>-0.522980</td>\n",
       "      <td>-0.522980</td>\n",
       "    </tr>\n",
       "    <tr>\n",
       "      <th>onlinesecurity_yes</th>\n",
       "      <td>-0.635010</td>\n",
       "      <td>-0.635010</td>\n",
       "      <td>-0.635010</td>\n",
       "      <td>-0.635010</td>\n",
       "      <td>-0.635010</td>\n",
       "    </tr>\n",
       "    <tr>\n",
       "      <th>techsupport_no</th>\n",
       "      <td>1.019357</td>\n",
       "      <td>1.019357</td>\n",
       "      <td>-0.981011</td>\n",
       "      <td>1.019357</td>\n",
       "      <td>1.019357</td>\n",
       "    </tr>\n",
       "    <tr>\n",
       "      <th>techsupport_no_internet_service</th>\n",
       "      <td>-0.522980</td>\n",
       "      <td>-0.522980</td>\n",
       "      <td>-0.522980</td>\n",
       "      <td>-0.522980</td>\n",
       "      <td>-0.522980</td>\n",
       "    </tr>\n",
       "    <tr>\n",
       "      <th>techsupport_yes</th>\n",
       "      <td>-0.646585</td>\n",
       "      <td>-0.646585</td>\n",
       "      <td>1.546587</td>\n",
       "      <td>-0.646585</td>\n",
       "      <td>-0.646585</td>\n",
       "    </tr>\n",
       "    <tr>\n",
       "      <th>internetservice_dsl</th>\n",
       "      <td>1.380985</td>\n",
       "      <td>-0.724121</td>\n",
       "      <td>1.380985</td>\n",
       "      <td>-0.724121</td>\n",
       "      <td>-0.724121</td>\n",
       "    </tr>\n",
       "    <tr>\n",
       "      <th>internetservice_fiber_optic</th>\n",
       "      <td>-0.888655</td>\n",
       "      <td>1.125296</td>\n",
       "      <td>-0.888655</td>\n",
       "      <td>1.125296</td>\n",
       "      <td>1.125296</td>\n",
       "    </tr>\n",
       "    <tr>\n",
       "      <th>internetservice_no</th>\n",
       "      <td>-0.522980</td>\n",
       "      <td>-0.522980</td>\n",
       "      <td>-0.522980</td>\n",
       "      <td>-0.522980</td>\n",
       "      <td>-0.522980</td>\n",
       "    </tr>\n",
       "    <tr>\n",
       "      <th>tenure</th>\n",
       "      <td>-1.198368</td>\n",
       "      <td>-0.054658</td>\n",
       "      <td>-0.381433</td>\n",
       "      <td>-1.034981</td>\n",
       "      <td>-0.340586</td>\n",
       "    </tr>\n",
       "    <tr>\n",
       "      <th>monthlycharges</th>\n",
       "      <td>-0.990255</td>\n",
       "      <td>0.541967</td>\n",
       "      <td>-0.358359</td>\n",
       "      <td>0.316885</td>\n",
       "      <td>1.158857</td>\n",
       "    </tr>\n",
       "    <tr>\n",
       "      <th>totalcharges</th>\n",
       "      <td>-0.959225</td>\n",
       "      <td>0.158079</td>\n",
       "      <td>-0.428069</td>\n",
       "      <td>-0.774324</td>\n",
       "      <td>0.054054</td>\n",
       "    </tr>\n",
       "  </tbody>\n",
       "</table>\n",
       "</div>"
      ],
      "text/plain": [
       "                                           0         1         2         3  \\\n",
       "contract_month-to-month             0.908986  0.908986  0.908986  0.908986   \n",
       "contract_one_year                  -0.518023 -0.518023 -0.518023 -0.518023   \n",
       "contract_two_year                  -0.563275 -0.563275 -0.563275 -0.563275   \n",
       "onlinesecurity_no                   1.004269  1.004269  1.004269  1.004269   \n",
       "onlinesecurity_no_internet_service -0.522980 -0.522980 -0.522980 -0.522980   \n",
       "onlinesecurity_yes                 -0.635010 -0.635010 -0.635010 -0.635010   \n",
       "techsupport_no                      1.019357  1.019357 -0.981011  1.019357   \n",
       "techsupport_no_internet_service    -0.522980 -0.522980 -0.522980 -0.522980   \n",
       "techsupport_yes                    -0.646585 -0.646585  1.546587 -0.646585   \n",
       "internetservice_dsl                 1.380985 -0.724121  1.380985 -0.724121   \n",
       "internetservice_fiber_optic        -0.888655  1.125296 -0.888655  1.125296   \n",
       "internetservice_no                 -0.522980 -0.522980 -0.522980 -0.522980   \n",
       "tenure                             -1.198368 -0.054658 -0.381433 -1.034981   \n",
       "monthlycharges                     -0.990255  0.541967 -0.358359  0.316885   \n",
       "totalcharges                       -0.959225  0.158079 -0.428069 -0.774324   \n",
       "\n",
       "                                           4  \n",
       "contract_month-to-month             0.908986  \n",
       "contract_one_year                  -0.518023  \n",
       "contract_two_year                  -0.563275  \n",
       "onlinesecurity_no                   1.004269  \n",
       "onlinesecurity_no_internet_service -0.522980  \n",
       "onlinesecurity_yes                 -0.635010  \n",
       "techsupport_no                      1.019357  \n",
       "techsupport_no_internet_service    -0.522980  \n",
       "techsupport_yes                    -0.646585  \n",
       "internetservice_dsl                -0.724121  \n",
       "internetservice_fiber_optic         1.125296  \n",
       "internetservice_no                 -0.522980  \n",
       "tenure                             -0.340586  \n",
       "monthlycharges                      1.158857  \n",
       "totalcharges                        0.054054  "
      ]
     },
     "execution_count": 4,
     "metadata": {},
     "output_type": "execute_result"
    }
   ],
   "source": [
    "categorical_important = ['contract', 'onlinesecurity', 'techsupport', 'internetservice']\n",
    "numerical_important = ['tenure', 'monthlycharges', 'totalcharges']\n",
    "\n",
    "df_train = data_preprocessing(df_train)\n",
    "df_train = FeatureEngineering(df_train,\n",
    "                              categorical_variables=categorical_important,\n",
    "                              numerical_variables=numerical_important,\n",
    "                              target_variable='Churn')\n",
    "\n",
    "y_train = df_train['churn']\n",
    "del df_train['churn']\n",
    "\n",
    "df_train.head().T"
   ]
  },
  {
   "cell_type": "markdown",
   "metadata": {},
   "source": [
    "<h2>1) Logistic Regression</h2>"
   ]
  },
  {
   "cell_type": "code",
   "execution_count": 5,
   "metadata": {},
   "outputs": [
    {
     "name": "stdout",
     "output_type": "stream",
     "text": [
      "0.8367262420328858\n"
     ]
    }
   ],
   "source": [
    "from sklearn.model_selection import cross_validate\n",
    "from sklearn.linear_model import LogisticRegression\n",
    "clf_LogisticRegression = LogisticRegression(random_state=0)\n",
    "\n",
    "scores = cross_validate(clf_LogisticRegression, df_train, y_train, cv=6,\n",
    "                        scoring=('roc_auc'),\n",
    "                        return_train_score=True)\n",
    "print(scores['test_score'].mean())\n"
   ]
  },
  {
   "cell_type": "markdown",
   "metadata": {},
   "source": [
    "<h2>2) K Nearest Neighbors</h2>"
   ]
  },
  {
   "cell_type": "code",
   "execution_count": 6,
   "metadata": {},
   "outputs": [
    {
     "name": "stdout",
     "output_type": "stream",
     "text": [
      "0.7796812937086126\n"
     ]
    }
   ],
   "source": [
    "from sklearn.neighbors import KNeighborsClassifier\n",
    "clf_KNN = KNeighborsClassifier()\n",
    "\n",
    "scores = cross_validate(clf_KNN, df_train, y_train, cv=6,\n",
    "                        scoring=('roc_auc'),\n",
    "                        return_train_score=True)\n",
    "print(scores['test_score'].mean())\n"
   ]
  },
  {
   "cell_type": "markdown",
   "metadata": {},
   "source": [
    "<h2>3) Naive Bayes</h2>"
   ]
  },
  {
   "cell_type": "code",
   "execution_count": 7,
   "metadata": {},
   "outputs": [
    {
     "name": "stdout",
     "output_type": "stream",
     "text": [
      "0.8254343639998684\n"
     ]
    }
   ],
   "source": [
    "from sklearn.naive_bayes import GaussianNB\n",
    "clf_NB = GaussianNB()\n",
    "\n",
    "scores = cross_validate(clf_NB, df_train, y_train, cv=6,\n",
    "                        scoring=('roc_auc'),\n",
    "                        return_train_score=True)\n",
    "print(scores['test_score'].mean())\n"
   ]
  },
  {
   "cell_type": "markdown",
   "metadata": {},
   "source": [
    "<h2>4) Support Vector machine for Classification (SVC)</h2>"
   ]
  },
  {
   "cell_type": "code",
   "execution_count": 8,
   "metadata": {},
   "outputs": [
    {
     "name": "stdout",
     "output_type": "stream",
     "text": [
      "0.8092300188309788\n"
     ]
    }
   ],
   "source": [
    "from sklearn.svm import SVC\n",
    "clf_SVC = SVC(kernel='linear', random_state=6)\n",
    "\n",
    "scores = cross_validate(clf_SVC, df_train, y_train, cv=6,\n",
    "                        scoring=('roc_auc'),\n",
    "                        return_train_score=True)\n",
    "print(scores['test_score'].mean())\n",
    "# kernel\n",
    "#  -sigmoid   0.7217249049598338\n",
    "#  -poly      0.8158020900887415\n",
    "#  -rbf       0.7720218063211098\n",
    "#  -linear    0.8092300188309788\n"
   ]
  },
  {
   "cell_type": "markdown",
   "metadata": {},
   "source": [
    "<h2>5) Desicion Tree Classification</h2>"
   ]
  },
  {
   "cell_type": "code",
   "execution_count": 9,
   "metadata": {},
   "outputs": [
    {
     "name": "stdout",
     "output_type": "stream",
     "text": [
      "0.6673704556237601\n"
     ]
    }
   ],
   "source": [
    "from calendar import c\n",
    "from sklearn.tree import DecisionTreeClassifier\n",
    "clf_DT = DecisionTreeClassifier(criterion='entropy', random_state=6)\n",
    "\n",
    "scores = cross_validate(clf_DT, df_train, y_train, cv=6,\n",
    "                        scoring=('roc_auc'),\n",
    "                        return_train_score=True)\n",
    "print(scores['test_score'].mean())\n",
    "# criterion\n",
    "#   -gini      0.666598842172868\n",
    "#   -entropy   0.6673704556237601"
   ]
  },
  {
   "cell_type": "markdown",
   "metadata": {},
   "source": [
    "<h2>6) Random Forest</h2>"
   ]
  },
  {
   "cell_type": "code",
   "execution_count": 10,
   "metadata": {},
   "outputs": [
    {
     "name": "stdout",
     "output_type": "stream",
     "text": [
      "0.7955202892868366\n"
     ]
    }
   ],
   "source": [
    "from sklearn.ensemble import RandomForestClassifier\n",
    "\n",
    "clf_RF = RandomForestClassifier(n_estimators=100, criterion='entropy', random_state=6)\n",
    "\n",
    "scores = cross_validate(clf_RF, df_train, y_train, cv=6,\n",
    "                        scoring=('roc_auc'),\n",
    "                        return_train_score=True)\n",
    "print(scores['test_score'].mean())\n",
    "# criterion\n",
    "#   -gini       0.7940777923624925    \n",
    "#   -entropy    0.7955202892868366  "
   ]
  },
  {
   "cell_type": "markdown",
   "metadata": {},
   "source": [
    "<h2>7) XGBoost</h2>"
   ]
  },
  {
   "cell_type": "code",
   "execution_count": 11,
   "metadata": {},
   "outputs": [
    {
     "name": "stdout",
     "output_type": "stream",
     "text": [
      "0.8171957479568427\n"
     ]
    }
   ],
   "source": [
    "from xgboost import XGBClassifier\n",
    "\n",
    "clf_xgboost = XGBClassifier()\n",
    "\n",
    "scores = cross_validate(clf_xgboost, df_train, y_train, cv=6,\n",
    "                        scoring=('roc_auc'),\n",
    "                        return_train_score=True)\n",
    "print(scores['test_score'].mean())"
   ]
  },
  {
   "cell_type": "markdown",
   "metadata": {},
   "source": [
    "<h2>8) Gradiant Boosting model</h2>"
   ]
  },
  {
   "cell_type": "code",
   "execution_count": 12,
   "metadata": {},
   "outputs": [
    {
     "name": "stdout",
     "output_type": "stream",
     "text": [
      "0.8405381208558099\n"
     ]
    }
   ],
   "source": [
    "from sklearn.ensemble import GradientBoostingClassifier\n",
    "\n",
    "clf_GB = GradientBoostingClassifier(n_estimators=20, learning_rate=0.1, max_depth=3)\n",
    "\n",
    "scores = cross_validate(clf_GB, df_train, y_train, cv=6,\n",
    "                        scoring=('roc_auc'),\n",
    "                        return_train_score=True)\n",
    "print(scores['test_score'].mean())"
   ]
  },
  {
   "cell_type": "markdown",
   "metadata": {},
   "source": [
    "<h2>TEST</h2>"
   ]
  },
  {
   "cell_type": "code",
   "execution_count": 13,
   "metadata": {},
   "outputs": [],
   "source": [
    "df_test = data_preprocessing(df_test)\n",
    "df_test = FeatureEngineering(df_test,\n",
    "                              categorical_variables=categorical_important,\n",
    "                              numerical_variables=numerical_important,\n",
    "                              target_variable='churn')\n",
    "y_test = df_test['churn']\n",
    "del df_test['churn']\n",
    "\n",
    "# model\n",
    "clf_LogisticRegression = LogisticRegression(random_state=0)\n",
    "clf_LogisticRegression.fit(df_train, y_train)\n",
    "\n",
    "# clf_GB = GradientBoostingClassifier(n_estimators=20, learning_rate=0.1, max_depth=3)\n",
    "# clf_GB.fit(df_train, y_train)\n",
    "\n",
    "\n",
    "\n",
    "pred = clf_LogisticRegression.predict(df_test)\n",
    "\n",
    "from sklearn.metrics import roc_auc_score\n",
    "# 0.6610603450428183"
   ]
  }
 ],
 "metadata": {
  "kernelspec": {
   "display_name": "Python 3.10.6 64-bit",
   "language": "python",
   "name": "python3"
  },
  "language_info": {
   "codemirror_mode": {
    "name": "ipython",
    "version": 3
   },
   "file_extension": ".py",
   "mimetype": "text/x-python",
   "name": "python",
   "nbconvert_exporter": "python",
   "pygments_lexer": "ipython3",
   "version": "3.10.6"
  },
  "orig_nbformat": 4,
  "vscode": {
   "interpreter": {
    "hash": "aafc33a19d1e6c143b5a4b283b91d6d8d620b2aadbd9675105175468fd18e65b"
   }
  }
 },
 "nbformat": 4,
 "nbformat_minor": 2
}
