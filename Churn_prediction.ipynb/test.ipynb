{
 "cells": [
  {
   "cell_type": "code",
   "execution_count": 13,
   "metadata": {},
   "outputs": [],
   "source": [
    "import pandas as pd\n",
    "from sklearn.preprocessing import OneHotEncoder\n",
    "from sklearn.compose import make_column_transformer\n",
    "from sklearn.preprocessing import StandardScaler\n",
    "import pickle\n",
    "\n",
    "def data_preprocessing(dataset:pd.DataFrame):\n",
    "    df = dataset.copy()\n",
    "    \n",
    "    # prepare string variables\n",
    "    df.columns = df.columns.str.lower().str.replace(' ','_')\n",
    "    string_columns = list(df.dtypes[df.dtypes=='O'].index)\n",
    "    for col in string_columns:\n",
    "        df[col] = df[col].str.lower().str.replace(' ','_')\n",
    "    \n",
    "    # make TotalCharges numeric                  \n",
    "    df['totalcharges'] = pd.to_numeric(df['totalcharges'], errors='coerce')\n",
    "    df['totalcharges'] = df['totalcharges'].fillna(0)\n",
    "    \n",
    "    # make dependent variable numeric\n",
    "    df.churn = (df.churn == 'yes').astype(int)\n",
    "    \n",
    "    # drop duplicates\n",
    "    df.drop_duplicates(inplace=True)\n",
    "\n",
    "    return df\n",
    "\n",
    "def FeatureEngineering(dataset:pd.DataFrame, categorical_variables:list, numerical_variables:list, target_variable:str):\n",
    "    df = dataset.copy()\n",
    "    categorical_important = categorical_variables.copy()\n",
    "    numerical_important = numerical_variables.copy()\n",
    "    dependent_variable = [target_variable.lower().replace(' ','_')]\n",
    "\n",
    "    df = df[numerical_important + categorical_important]\n",
    "    \n",
    "    # Dummy variables\n",
    "    #   -read OHE_feature_names_out\n",
    "    OHE_feature_names_out = []\n",
    "    datam = open(\"OHE_feature_names_out.txt\", \"r\")\n",
    "    for x in datam:\n",
    "        OHE_feature_names_out.append(x)\n",
    "    OHE_feature_names_out = list(map(lambda x : x[:-1],OHE_feature_names_out))\n",
    "    datam.close()\n",
    "\n",
    "    ohe = pickle.load(open('OneHotEncoder.pkl','rb'))\n",
    "    df = pd.DataFrame(ohe, columns=OHE_feature_names_out)\n",
    "\n",
    "    # Feature scaling\n",
    "    scaler = pickle.load(open('scaler.pkl','rb'))\n",
    "    df = scaler.transform(df)\n",
    "    df = pd.DataFrame(df,columns=scaler.feature_names_in_)\n",
    "    \n",
    "    #add target variable\n",
    "    df[dependent_variable] = dataset[dependent_variable]\n",
    "    return df"
   ]
  },
  {
   "cell_type": "code",
   "execution_count": 14,
   "metadata": {},
   "outputs": [],
   "source": [
    "df = pd.read_csv('Churn_prediction.csv')\n",
    "\n",
    "from sklearn.model_selection import train_test_split\n",
    "df_train, df_test = train_test_split(df, test_size=0.2, random_state=666)\n",
    "\n",
    "df_test.reset_index(inplace=True,drop=True)\n",
    "\n",
    "categorical_important = ['contract', 'onlinesecurity', 'techsupport', 'internetservice']\n",
    "numerical_important = ['tenure', 'monthlycharges', 'totalcharges']"
   ]
  },
  {
   "cell_type": "code",
   "execution_count": 15,
   "metadata": {},
   "outputs": [
    {
     "ename": "ValueError",
     "evalue": "Shape of passed values is (7043, 15), indices imply (7043, 16)",
     "output_type": "error",
     "traceback": [
      "\u001b[1;31m---------------------------------------------------------------------------\u001b[0m",
      "\u001b[1;31mValueError\u001b[0m                                Traceback (most recent call last)",
      "\u001b[1;32md:\\Github\\Jupyters\\Jupyter_notebooks\\Churn_prediction.ipynb\\test.ipynb Cell 3\u001b[0m in \u001b[0;36m<cell line: 2>\u001b[1;34m()\u001b[0m\n\u001b[0;32m      <a href='vscode-notebook-cell:/d%3A/Github/Jupyters/Jupyter_notebooks/Churn_prediction.ipynb/test.ipynb#W3sZmlsZQ%3D%3D?line=0'>1</a>\u001b[0m df_train \u001b[39m=\u001b[39m data_preprocessing(df_train)\n\u001b[1;32m----> <a href='vscode-notebook-cell:/d%3A/Github/Jupyters/Jupyter_notebooks/Churn_prediction.ipynb/test.ipynb#W3sZmlsZQ%3D%3D?line=1'>2</a>\u001b[0m df_train \u001b[39m=\u001b[39m FeatureEngineering(df_train,\n\u001b[0;32m      <a href='vscode-notebook-cell:/d%3A/Github/Jupyters/Jupyter_notebooks/Churn_prediction.ipynb/test.ipynb#W3sZmlsZQ%3D%3D?line=2'>3</a>\u001b[0m                               categorical_variables\u001b[39m=\u001b[39;49mcategorical_important,\n\u001b[0;32m      <a href='vscode-notebook-cell:/d%3A/Github/Jupyters/Jupyter_notebooks/Churn_prediction.ipynb/test.ipynb#W3sZmlsZQ%3D%3D?line=3'>4</a>\u001b[0m                               numerical_variables\u001b[39m=\u001b[39;49mnumerical_important,\n\u001b[0;32m      <a href='vscode-notebook-cell:/d%3A/Github/Jupyters/Jupyter_notebooks/Churn_prediction.ipynb/test.ipynb#W3sZmlsZQ%3D%3D?line=4'>5</a>\u001b[0m                               target_variable\u001b[39m=\u001b[39;49m\u001b[39m'\u001b[39;49m\u001b[39mChurn\u001b[39;49m\u001b[39m'\u001b[39;49m)\n\u001b[0;32m      <a href='vscode-notebook-cell:/d%3A/Github/Jupyters/Jupyter_notebooks/Churn_prediction.ipynb/test.ipynb#W3sZmlsZQ%3D%3D?line=6'>7</a>\u001b[0m y_train \u001b[39m=\u001b[39m df_train[\u001b[39m'\u001b[39m\u001b[39mchurn\u001b[39m\u001b[39m'\u001b[39m]\n\u001b[0;32m      <a href='vscode-notebook-cell:/d%3A/Github/Jupyters/Jupyter_notebooks/Churn_prediction.ipynb/test.ipynb#W3sZmlsZQ%3D%3D?line=7'>8</a>\u001b[0m \u001b[39mdel\u001b[39;00m df_train[\u001b[39m'\u001b[39m\u001b[39mchurn\u001b[39m\u001b[39m'\u001b[39m]\n",
      "\u001b[1;32md:\\Github\\Jupyters\\Jupyter_notebooks\\Churn_prediction.ipynb\\test.ipynb Cell 3\u001b[0m in \u001b[0;36mFeatureEngineering\u001b[1;34m(dataset, categorical_variables, numerical_variables, target_variable)\u001b[0m\n\u001b[0;32m     <a href='vscode-notebook-cell:/d%3A/Github/Jupyters/Jupyter_notebooks/Churn_prediction.ipynb/test.ipynb#W3sZmlsZQ%3D%3D?line=42'>43</a>\u001b[0m datam\u001b[39m.\u001b[39mclose()\n\u001b[0;32m     <a href='vscode-notebook-cell:/d%3A/Github/Jupyters/Jupyter_notebooks/Churn_prediction.ipynb/test.ipynb#W3sZmlsZQ%3D%3D?line=44'>45</a>\u001b[0m ohe \u001b[39m=\u001b[39m pickle\u001b[39m.\u001b[39mload(\u001b[39mopen\u001b[39m(\u001b[39m'\u001b[39m\u001b[39mOneHotEncoder.pkl\u001b[39m\u001b[39m'\u001b[39m,\u001b[39m'\u001b[39m\u001b[39mrb\u001b[39m\u001b[39m'\u001b[39m))\n\u001b[1;32m---> <a href='vscode-notebook-cell:/d%3A/Github/Jupyters/Jupyter_notebooks/Churn_prediction.ipynb/test.ipynb#W3sZmlsZQ%3D%3D?line=45'>46</a>\u001b[0m df \u001b[39m=\u001b[39m pd\u001b[39m.\u001b[39;49mDataFrame(ohe, columns\u001b[39m=\u001b[39;49mOHE_feature_names_out)\n\u001b[0;32m     <a href='vscode-notebook-cell:/d%3A/Github/Jupyters/Jupyter_notebooks/Churn_prediction.ipynb/test.ipynb#W3sZmlsZQ%3D%3D?line=47'>48</a>\u001b[0m \u001b[39m# Feature scaling\u001b[39;00m\n\u001b[0;32m     <a href='vscode-notebook-cell:/d%3A/Github/Jupyters/Jupyter_notebooks/Churn_prediction.ipynb/test.ipynb#W3sZmlsZQ%3D%3D?line=48'>49</a>\u001b[0m scaler \u001b[39m=\u001b[39m pickle\u001b[39m.\u001b[39mload(\u001b[39mopen\u001b[39m(\u001b[39m'\u001b[39m\u001b[39mscaler.pkl\u001b[39m\u001b[39m'\u001b[39m,\u001b[39m'\u001b[39m\u001b[39mrb\u001b[39m\u001b[39m'\u001b[39m))\n",
      "File \u001b[1;32mc:\\Users\\Amin\\AppData\\Local\\Programs\\Python\\Python310\\lib\\site-packages\\pandas\\core\\frame.py:694\u001b[0m, in \u001b[0;36mDataFrame.__init__\u001b[1;34m(self, data, index, columns, dtype, copy)\u001b[0m\n\u001b[0;32m    684\u001b[0m         mgr \u001b[39m=\u001b[39m dict_to_mgr(\n\u001b[0;32m    685\u001b[0m             \u001b[39m# error: Item \"ndarray\" of \"Union[ndarray, Series, Index]\" has no\u001b[39;00m\n\u001b[0;32m    686\u001b[0m             \u001b[39m# attribute \"name\"\u001b[39;00m\n\u001b[1;32m   (...)\u001b[0m\n\u001b[0;32m    691\u001b[0m             typ\u001b[39m=\u001b[39mmanager,\n\u001b[0;32m    692\u001b[0m         )\n\u001b[0;32m    693\u001b[0m     \u001b[39melse\u001b[39;00m:\n\u001b[1;32m--> 694\u001b[0m         mgr \u001b[39m=\u001b[39m ndarray_to_mgr(\n\u001b[0;32m    695\u001b[0m             data,\n\u001b[0;32m    696\u001b[0m             index,\n\u001b[0;32m    697\u001b[0m             columns,\n\u001b[0;32m    698\u001b[0m             dtype\u001b[39m=\u001b[39;49mdtype,\n\u001b[0;32m    699\u001b[0m             copy\u001b[39m=\u001b[39;49mcopy,\n\u001b[0;32m    700\u001b[0m             typ\u001b[39m=\u001b[39;49mmanager,\n\u001b[0;32m    701\u001b[0m         )\n\u001b[0;32m    703\u001b[0m \u001b[39m# For data is list-like, or Iterable (will consume into list)\u001b[39;00m\n\u001b[0;32m    704\u001b[0m \u001b[39melif\u001b[39;00m is_list_like(data):\n",
      "File \u001b[1;32mc:\\Users\\Amin\\AppData\\Local\\Programs\\Python\\Python310\\lib\\site-packages\\pandas\\core\\internals\\construction.py:351\u001b[0m, in \u001b[0;36mndarray_to_mgr\u001b[1;34m(values, index, columns, dtype, copy, typ)\u001b[0m\n\u001b[0;32m    346\u001b[0m \u001b[39m# _prep_ndarray ensures that values.ndim == 2 at this point\u001b[39;00m\n\u001b[0;32m    347\u001b[0m index, columns \u001b[39m=\u001b[39m _get_axes(\n\u001b[0;32m    348\u001b[0m     values\u001b[39m.\u001b[39mshape[\u001b[39m0\u001b[39m], values\u001b[39m.\u001b[39mshape[\u001b[39m1\u001b[39m], index\u001b[39m=\u001b[39mindex, columns\u001b[39m=\u001b[39mcolumns\n\u001b[0;32m    349\u001b[0m )\n\u001b[1;32m--> 351\u001b[0m _check_values_indices_shape_match(values, index, columns)\n\u001b[0;32m    353\u001b[0m \u001b[39mif\u001b[39;00m typ \u001b[39m==\u001b[39m \u001b[39m\"\u001b[39m\u001b[39marray\u001b[39m\u001b[39m\"\u001b[39m:\n\u001b[0;32m    355\u001b[0m     \u001b[39mif\u001b[39;00m \u001b[39missubclass\u001b[39m(values\u001b[39m.\u001b[39mdtype\u001b[39m.\u001b[39mtype, \u001b[39mstr\u001b[39m):\n",
      "File \u001b[1;32mc:\\Users\\Amin\\AppData\\Local\\Programs\\Python\\Python310\\lib\\site-packages\\pandas\\core\\internals\\construction.py:422\u001b[0m, in \u001b[0;36m_check_values_indices_shape_match\u001b[1;34m(values, index, columns)\u001b[0m\n\u001b[0;32m    420\u001b[0m passed \u001b[39m=\u001b[39m values\u001b[39m.\u001b[39mshape\n\u001b[0;32m    421\u001b[0m implied \u001b[39m=\u001b[39m (\u001b[39mlen\u001b[39m(index), \u001b[39mlen\u001b[39m(columns))\n\u001b[1;32m--> 422\u001b[0m \u001b[39mraise\u001b[39;00m \u001b[39mValueError\u001b[39;00m(\u001b[39mf\u001b[39m\u001b[39m\"\u001b[39m\u001b[39mShape of passed values is \u001b[39m\u001b[39m{\u001b[39;00mpassed\u001b[39m}\u001b[39;00m\u001b[39m, indices imply \u001b[39m\u001b[39m{\u001b[39;00mimplied\u001b[39m}\u001b[39;00m\u001b[39m\"\u001b[39m)\n",
      "\u001b[1;31mValueError\u001b[0m: Shape of passed values is (7043, 15), indices imply (7043, 16)"
     ]
    }
   ],
   "source": [
    "df_train = data_preprocessing(df_train)\n",
    "df_train = FeatureEngineering(df_train,\n",
    "                              categorical_variables=categorical_important,\n",
    "                              numerical_variables=numerical_important,\n",
    "                              target_variable='Churn')\n",
    "\n",
    "y_train = df_train['churn']\n",
    "del df_train['churn']"
   ]
  },
  {
   "cell_type": "code",
   "execution_count": null,
   "metadata": {},
   "outputs": [],
   "source": [
    "df_test = data_preprocessing(df_test)\n",
    "df_test = FeatureEngineering(df_test,\n",
    "                              categorical_variables=categorical_important,\n",
    "                              numerical_variables=numerical_important,\n",
    "                              target_variable='churn')\n",
    "y_test = df_test['churn']\n",
    "del df_test['churn']\n",
    "\n",
    "# model\n",
    "from sklearn.linear_model import LogisticRegression\n",
    "clf_LogisticRegression = LogisticRegression(random_state=0)\n",
    "clf_LogisticRegression.fit(df_train, y_train)\n",
    "\n",
    "# clf_GB = GradientBoostingClassifier(n_estimators=20, learning_rate=0.1, max_depth=3)\n",
    "# clf_GB.fit(df_train, y_train)\n",
    "\n",
    "\n",
    "\n",
    "pred = clf_LogisticRegression.predict(df_test)\n",
    "\n",
    "from sklearn.metrics import roc_auc_score\n",
    "# 0.6610603450428183"
   ]
  }
 ],
 "metadata": {
  "kernelspec": {
   "display_name": "Python 3.10.6 64-bit",
   "language": "python",
   "name": "python3"
  },
  "language_info": {
   "codemirror_mode": {
    "name": "ipython",
    "version": 3
   },
   "file_extension": ".py",
   "mimetype": "text/x-python",
   "name": "python",
   "nbconvert_exporter": "python",
   "pygments_lexer": "ipython3",
   "version": "3.10.6"
  },
  "orig_nbformat": 4,
  "vscode": {
   "interpreter": {
    "hash": "aafc33a19d1e6c143b5a4b283b91d6d8d620b2aadbd9675105175468fd18e65b"
   }
  }
 },
 "nbformat": 4,
 "nbformat_minor": 2
}
