{
 "cells": [
  {
   "cell_type": "markdown",
   "metadata": {},
   "source": [
    "<a href='https://fastapi.tiangolo.com/'><h3 style=\"text-align:center\">FastAPI</h3></a>\n",
    "<hr>"
   ]
  },
  {
   "cell_type": "markdown",
   "metadata": {},
   "source": [
    "<h3>>> Installation</h3>\n",
    "\n",
    "pip install fastapi<br>\n",
    "pip install uvicorn<br>\n",
    "pip install uvicorn[standard]\n",
    "<hr>"
   ]
  },
  {
   "cell_type": "markdown",
   "metadata": {},
   "source": [
    "<h3>>> Run Fastapi Project</h3>\n",
    "\n",
    "uvicorn main:app --reload\n",
    "\n",
    "main    ==>    python file name (main.py) <br>\n",
    "app     ==>    name of app that defined in main.py\n",
    "<hr>"
   ]
  },
  {
   "cell_type": "markdown",
   "metadata": {},
   "source": [
    "<h3>>> Simple code</h3>"
   ]
  },
  {
   "cell_type": "code",
   "execution_count": null,
   "metadata": {},
   "outputs": [],
   "source": [
    "from fastapi import FastAPI\n",
    "\n",
    "app = FastAPI()\n",
    "\n",
    "\n",
    "@app.get(\"/\")\n",
    "async def root():\n",
    "    return {\"message\": \"Hello World\"}"
   ]
  },
  {
   "cell_type": "markdown",
   "metadata": {},
   "source": [
    "<hr>"
   ]
  },
  {
   "cell_type": "markdown",
   "metadata": {},
   "source": [
    "<h3>>> Structure of bigger applications</h3>\n",
    "<pre>\n",
    ".\n",
    "├── app                    \n",
    "│   ├── __init__.py\n",
    "│   ├── main.py\n",
    "│   ├── requirements.txt    \n",
    "│   └── routers            \n",
    "│   │   ├── __init__.py    \n",
    "│   │   ├── app1.py         \n",
    "│   │   └── app2.py\n",
    "│   └── internal\n",
    "│       ├── __init__.py\n",
    "│       └── admin.py\n",
    "</pre>\n",
    "<hr>"
   ]
  }
 ],
 "metadata": {
  "kernelspec": {
   "display_name": "Python 3.10.6 64-bit",
   "language": "python",
   "name": "python3"
  },
  "language_info": {
   "codemirror_mode": {
    "name": "ipython",
    "version": 3
   },
   "file_extension": ".py",
   "mimetype": "text/x-python",
   "name": "python",
   "nbconvert_exporter": "python",
   "pygments_lexer": "ipython3",
   "version": "3.10.6"
  },
  "orig_nbformat": 4,
  "vscode": {
   "interpreter": {
    "hash": "aafc33a19d1e6c143b5a4b283b91d6d8d620b2aadbd9675105175468fd18e65b"
   }
  }
 },
 "nbformat": 4,
 "nbformat_minor": 2
}
