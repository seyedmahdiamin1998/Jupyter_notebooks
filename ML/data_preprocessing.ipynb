{
 "cells": [
  {
   "cell_type": "code",
   "execution_count": 1,
   "metadata": {},
   "outputs": [],
   "source": [
    "import pandas as pd\n",
    "df = pd.read_csv('sample_data1.csv')"
   ]
  },
  {
   "cell_type": "markdown",
   "metadata": {},
   "source": [
    "<h3>>> Cleaning string column names and values</h3>"
   ]
  },
  {
   "cell_type": "code",
   "execution_count": null,
   "metadata": {},
   "outputs": [],
   "source": [
    "# convert column name to lower case and replace white space with _\n",
    "df.columns = df.columns.str.lower().str.replace(' ','_')\n",
    "\n",
    "# convert string rows to lower case and replace white space with _\n",
    "string_columns = list(df.dtypes[df.dtypes =='object'].index)\n",
    "for col in string_columns:\n",
    "    df[col] = df[col].str.lower().str.replace(' ','_')"
   ]
  },
  {
   "cell_type": "markdown",
   "metadata": {},
   "source": [
    "<h3>>> One Hot Encoding</h3>"
   ]
  },
  {
   "cell_type": "code",
   "execution_count": null,
   "metadata": {},
   "outputs": [],
   "source": [
    "from sklearn.feature_extraction import DictVectorizer\n",
    "\n",
    "# Train Dataset\n",
    "train_dicts = df_train[categorical+numerical].to_dict(orient='records')\n",
    "dv = DictVectorizer(sparse=False)\n",
    "X_train = dv.fit_transform(train_dicts)\n",
    "\n",
    "# Validation Dataset\n",
    "val_dicts = df_val[categorical+numerical].to_dict(orient='records')\n",
    "X_val = dv.transform(val_dicts)\n",
    "\n",
    "# Get Features names\n",
    "dv.get_feature_names()\n",
    "\n",
    "# save \n"
   ]
  },
  {
   "cell_type": "markdown",
   "metadata": {},
   "source": [
    "<h3>>> Save and Load model (scikit learn)</h3>"
   ]
  },
  {
   "cell_type": "code",
   "execution_count": null,
   "metadata": {},
   "outputs": [],
   "source": [
    "import pickle\n",
    "\n",
    "# Save model\n",
    "OutputFile= 'model'\n",
    "with open(OutputFile,'wb') as f_out:\n",
    "    # dv    ==> DictVectorizer\n",
    "    # model ==> scikit learn model\n",
    "    pickle.dump((dv,model),f_out)\n",
    "\n",
    "# Load model\n",
    "modelFile= 'model'\n",
    "with open(modelFile,'rb') as f_in:\n",
    "    # dv    ==> DictVectorizer\n",
    "    # model ==> scikit learn model\n",
    "    dv, model =pickle.load(f_in)"
   ]
  },
  {
   "cell_type": "markdown",
   "metadata": {},
   "source": [
    "<h3>>> Cross Validation</h3>"
   ]
  },
  {
   "cell_type": "code",
   "execution_count": null,
   "metadata": {},
   "outputs": [],
   "source": [
    "from sklearn.model_selection import KFold\n",
    "\n",
    "independent_variable = 'A'\n",
    "K_folds=10\n",
    "\n",
    "kfold= KFold(n_splits=K_folds, shuffle=True, random_state=1)\n",
    "for train_idx, val_idx in kfold.split(df_full_train):\n",
    "    df_train =  df_full_train.iloc[train_idx]\n",
    "    df_val = df_full_train.iloc[val_idx]\n",
    "\n",
    "    y_train = df_train[independent_variable].values\n",
    "    y_val = df_val[independent_variable].values\n",
    "\n",
    "    # train model and so on ...\n"
   ]
  }
 ],
 "metadata": {
  "kernelspec": {
   "display_name": "Python 3.10.6 64-bit",
   "language": "python",
   "name": "python3"
  },
  "language_info": {
   "codemirror_mode": {
    "name": "ipython",
    "version": 3
   },
   "file_extension": ".py",
   "mimetype": "text/x-python",
   "name": "python",
   "nbconvert_exporter": "python",
   "pygments_lexer": "ipython3",
   "version": "3.10.6"
  },
  "orig_nbformat": 4,
  "vscode": {
   "interpreter": {
    "hash": "aafc33a19d1e6c143b5a4b283b91d6d8d620b2aadbd9675105175468fd18e65b"
   }
  }
 },
 "nbformat": 4,
 "nbformat_minor": 2
}
