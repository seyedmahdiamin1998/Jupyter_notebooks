{
 "cells": [
  {
   "cell_type": "markdown",
   "metadata": {},
   "source": [
    "<h3 style=\"text-align:center\">pipenv</h3>\n",
    "<hr>"
   ]
  },
  {
   "cell_type": "markdown",
   "metadata": {},
   "source": [
    "<h3>>> Installation</h3>"
   ]
  },
  {
   "cell_type": "markdown",
   "metadata": {},
   "source": [
    "pip install pipenv\n",
    "<hr>"
   ]
  },
  {
   "cell_type": "markdown",
   "metadata": {},
   "source": [
    "<h3>>> Create a new Virtual Enviorment</h3>"
   ]
  },
  {
   "cell_type": "markdown",
   "metadata": {},
   "source": [
    "pipenv shell\n",
    "<hr>"
   ]
  },
  {
   "cell_type": "markdown",
   "metadata": {},
   "source": [
    "<h3>>> install package</h3>"
   ]
  },
  {
   "cell_type": "markdown",
   "metadata": {},
   "source": [
    "pipenv install pandas\n",
    "<hr>"
   ]
  },
  {
   "cell_type": "markdown",
   "metadata": {},
   "source": [
    "<h3>>> exit from Virtual Enviorment</h3>\n",
    "\n",
    "exit\n",
    "<hr>"
   ]
  },
  {
   "cell_type": "markdown",
   "metadata": {},
   "source": [
    "<h3>>> Run some thing in Virtual Enviorment</h3>\n",
    "\n",
    "pipenv run python <br>\n",
    "pipenv run pip list <br>\n",
    "pipenv run python script.py\n",
    "<hr>"
   ]
  },
  {
   "cell_type": "markdown",
   "metadata": {},
   "source": [
    "<h3>>> Install libraries by requirements.txt</h3>\n",
    "\n",
    "pipenv run pip freeze > requirements.txt\n",
    "<hr>"
   ]
  },
  {
   "cell_type": "markdown",
   "metadata": {},
   "source": [
    "<h3>>> Install a package just in Development Enviorement not in Production Enviorment</h3>\n",
    "\n",
    "pip install mathplotlib --dev <br>\n",
    "pip install mathplotlib -d\n",
    "<hr>"
   ]
  },
  {
   "cell_type": "markdown",
   "metadata": {},
   "source": [
    "<h3>>> Uninstall a package</h3>\n",
    "\n",
    "pipenv uninstall scipy\n",
    "<hr>"
   ]
  },
  {
   "cell_type": "markdown",
   "metadata": {},
   "source": [
    "<h3>>> Change python version to 3.6( You should install that version in your OS before )</h3>\n",
    "\n",
    "pipenv python 3.6\n",
    "<hr>"
   ]
  },
  {
   "cell_type": "markdown",
   "metadata": {},
   "source": [
    "<h3>>> Remove Virtual Enviorment</h3>\n",
    "\n",
    "pipenv --rm\n",
    "<hr>"
   ]
  },
  {
   "cell_type": "markdown",
   "metadata": {},
   "source": [
    "<h3>>> Path of Virtual Enviorment</h3>\n",
    "\n",
    "pipenv --venv\n",
    "<hr>"
   ]
  },
  {
   "cell_type": "markdown",
   "metadata": {},
   "source": [
    "<h3>>> Checking installed package safety</h3>\n",
    "\n",
    "pipenv check\n",
    "<hr>"
   ]
  },
  {
   "cell_type": "markdown",
   "metadata": {},
   "source": [
    "<h3>>> Graph</h3>\n",
    "\n",
    "pipenv graph\n",
    "<hr>"
   ]
  },
  {
   "cell_type": "markdown",
   "metadata": {},
   "source": [
    "<h3>>> pipenv lock</h3>\n",
    "<small><i>$ pipenv lock is used to create a Pipfile.lock, which declares all dependencies (and sub-dependencies) of your project, their latest available versions, and the current hashes for the downloaded files. This ensures repeatable, and most importantly deterministic, builds.</i></small>\n",
    "\n",
    "pipenv lock\n",
    "<hr>"
   ]
  },
  {
   "cell_type": "markdown",
   "metadata": {},
   "source": [
    "<h3>>> Install dependencies in production by using pipfile.lock</h3>\n",
    "\n",
    "pipenv install --ignore-pipfile\n",
    "<hr>"
   ]
  },
  {
   "cell_type": "markdown",
   "metadata": {},
   "source": [
    "<h3>>> .env</h3>\n",
    "<small><i>If you want to load automatically some environment variables each time you start the project, you can set a .env file at the root folder of the project, next to the Pipfile</i></small>\n",
    "\n",
    "echo MY_TOKEN=SuperToKen >.env      <br>\n",
    "echo MY_VAR=SuperVar >>.env         \n",
    "<hr>"
   ]
  }
 ],
 "metadata": {
  "kernelspec": {
   "display_name": "Python 3.10.6 64-bit",
   "language": "python",
   "name": "python3"
  },
  "language_info": {
   "name": "python",
   "version": "3.10.6"
  },
  "orig_nbformat": 4,
  "vscode": {
   "interpreter": {
    "hash": "aafc33a19d1e6c143b5a4b283b91d6d8d620b2aadbd9675105175468fd18e65b"
   }
  }
 },
 "nbformat": 4,
 "nbformat_minor": 2
}
